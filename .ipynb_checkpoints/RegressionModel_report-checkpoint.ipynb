{
 "cells": [
  {
   "cell_type": "code",
   "execution_count": 4,
   "id": "110f10bd",
   "metadata": {},
   "outputs": [],
   "source": [
    "from sklearn.linear_model import LinearRegression\n",
    "import numpy as np\n",
    "import pandas as pd\n",
    "import json\n",
    "import matplotlib.pyplot as plt\n",
    "\n",
    "import statsmodels.api as sm"
   ]
  },
  {
   "cell_type": "code",
   "execution_count": 5,
   "id": "d99a4d21",
   "metadata": {},
   "outputs": [],
   "source": [
    "class ImpactModel:\n",
    "    def __init__(self, filepath):\n",
    "        self.filepath = filepath\n",
    "        self.data = pd.DataFrame()\n",
    "        self.eta = None\n",
    "        self.beta = None\n",
    "\n",
    "    @staticmethod\n",
    "    def read_pkl(path):\n",
    "        with open(path, 'rb') as f:\n",
    "            df = pd.read_pickle(f)\n",
    "        return df\n",
    "\n",
    "    @staticmethod\n",
    "    def melt_df(df, var_name):\n",
    "        melted_df = pd.melt(df.reset_index(), id_vars='index', value_vars=df.columns, var_name='Day',\n",
    "                            value_name=var_name).rename(columns={'index': 'Stock'})\n",
    "        return melted_df[var_name]\n",
    "\n",
    "    def read_data(self):\n",
    "        json_file_path = f\"{self.filepath}/high_vol_days.json\"\n",
    "\n",
    "        with open(json_file_path, 'r') as file:\n",
    "            high_vol_days = json.load(file)\n",
    "\n",
    "        stocks = list(high_vol_days.keys())  # Or however you have your stocks defined\n",
    "        days = range(65)  # Adjust based on your actual days\n",
    "\n",
    "        high_vol_df = pd.DataFrame(True, index=stocks, columns=days)\n",
    "        for stock, high_vol_days_list in high_vol_days.items():\n",
    "            for day_idx in high_vol_days_list:\n",
    "                if day_idx in high_vol_df.columns:\n",
    "                    high_vol_df.at[stock, day_idx] = False\n",
    "\n",
    "        value_imbalance = self.read_pkl(f\"{self.filepath}/value_imbalance.pkl\")\n",
    "        volatility = self.read_pkl(f\"{self.filepath}/Volatility.pkl\")\n",
    "        volatility = volatility[high_vol_df]\n",
    "        daily_value = self.read_pkl(f\"{self.filepath}/daily_values.pkl\")\n",
    "        temporary_impact = self.read_pkl(f\"{self.filepath}/TemporaryImpact.pkl\")\n",
    "\n",
    "        X_long = self.melt_df(value_imbalance, 'X')\n",
    "        V_long = self.melt_df(daily_value, 'V')\n",
    "        h_long = self.melt_df(temporary_impact, 'h')\n",
    "        sigma_long = self.melt_df(volatility, 'sigma')\n",
    "        data = pd.DataFrame()\n",
    "        data[\"X\"] = np.abs(X_long)\n",
    "        data[\"sign_X\"] = np.sign(X_long)\n",
    "        data[\"V\"] = V_long.astype(float)\n",
    "        data[\"h\"] = h_long\n",
    "        data[\"sigma\"] = sigma_long.astype(float)\n",
    "        data.dropna(axis=0, inplace=True)\n",
    "        self.data[\"log_X\"] = np.log(data[\"X\"])\n",
    "        self.data[\"sign_X\"] = data[\"sign_X\"]\n",
    "        self.data[\"log_V\"] = np.log(data[\"V\"])\n",
    "        self.data[\"log_sigma\"] = np.log(data[\"sigma\"])\n",
    "        self.data[\"log_h\"] = np.log(np.abs(data[\"h\"]))\n",
    "        self.data[\"sign_h\"] = np.sign(data[\"h\"])\n",
    "        self.data.dropna(axis=0, inplace=True)\n",
    "        self.log_data = pd.DataFrame()\n",
    "        self.log_data[\"y\"] = self.data[\"sign_h\"] * data[\"sign_X\"] * self.data[\"log_h\"] - self.data[\"log_sigma\"]\n",
    "        #self.log_data[\"y\"] = (self.data[\"log_h\"] - self.data[\"log_sigma\"])\n",
    "        self.log_data[\"X\"] = self.data[\"log_X\"] - self.data[\"log_V\"] - np.log(6/6.5)\n",
    "        self.log_data.replace([np.inf, -np.inf], np.nan, inplace=True)\n",
    "        self.log_data.dropna(axis=0, inplace=True)\n",
    "\n",
    "\n",
    "    def regress(self):\n",
    "        X = sm.add_constant(self.log_data[\"X\"])\n",
    "        y = self.log_data[\"y\"]\n",
    "        model = sm.OLS(y, X).fit()\n",
    "        alpha = model.params[0]  # Intercept (alpha)\n",
    "        beta = model.params[1]  # Slope(s) (beta values)\n",
    "        eta = np.exp(alpha)\n",
    "        print(f\"eta = {eta}, beta = {beta}\")\n",
    "        print(model.summary())\n",
    "        self.eta = eta\n",
    "        self.beta = beta\n",
    "        return alpha, beta\n",
    "\n",
    "    def parametric_bootstrap(self, num_simulations=1000):\n",
    "        alphas = []\n",
    "        betas = []\n",
    "\n",
    "        for _ in range(num_simulations):\n",
    "            # Simulate data based on estimated parameters\n",
    "            simulated_data = self.simulate_data()\n",
    "\n",
    "            # Fit regression model on simulated data\n",
    "            X_sim = sm.add_constant(simulated_data[\"X\"])\n",
    "            y_sim = simulated_data[\"y\"]\n",
    "            model_sim = sm.OLS(y_sim, X_sim).fit()\n",
    "\n",
    "            # Append estimated parameters to lists\n",
    "            alphas.append(model_sim.params.iloc[0])  # Use iloc indexer\n",
    "            betas.append(model_sim.params.iloc[1])  # Use iloc indexer\n",
    "\n",
    "        return alphas, betas\n",
    "\n",
    "    def simulate_data(self):\n",
    "        # Simulate data based on estimated parameters\n",
    "        simulated_X = np.random.normal(loc=self.log_data[\"X\"].mean(), scale=self.log_data[\"X\"].std(), size=len(self.log_data))\n",
    "        simulated_y = np.random.normal(loc=self.log_data[\"y\"].mean(), scale=self.log_data[\"y\"].std(), size=len(self.log_data))\n",
    "\n",
    "        simulated_data = pd.DataFrame({\"X\": simulated_X, \"y\": simulated_y})\n",
    "\n",
    "        return simulated_data"
   ]
  },
  {
   "cell_type": "code",
   "execution_count": 3,
   "id": "cea9cd0a",
   "metadata": {},
   "outputs": [
    {
     "name": "stderr",
     "output_type": "stream",
     "text": [
      "C:\\Users\\Alex\\anaconda3\\Lib\\site-packages\\pandas\\core\\arraylike.py:396: RuntimeWarning: divide by zero encountered in log\n",
      "  result = getattr(ufunc, method)(*inputs, **kwargs)\n",
      "C:\\Users\\Alex\\anaconda3\\Lib\\site-packages\\pandas\\core\\arraylike.py:396: RuntimeWarning: divide by zero encountered in log\n",
      "  result = getattr(ufunc, method)(*inputs, **kwargs)\n"
     ]
    },
    {
     "name": "stdout",
     "output_type": "stream",
     "text": [
      "eta = 14.71926029012882, beta = -0.05243269737727729\n"
     ]
    }
   ],
   "source": [
    "# Create an instance of the model and call methods\n",
    "impact_model = ImpactModel('Impact-Model-Matrix')\n",
    "impact_model.read_data()\n",
    "impact_model.regress()\n",
    "# Perform parametric bootstrap\n",
    "alphas_bootstrap, betas_bootstrap = impact_model.parametric_bootstrap(num_simulations=10)"
   ]
  },
  {
   "cell_type": "code",
   "execution_count": 6,
   "id": "1d813172",
   "metadata": {},
   "outputs": [
    {
     "data": {
      "image/png": "[encoded data removed]",
      "text/plain": [
       "<Figure size 640x480 with 1 Axes>"
      ]
     },
     "metadata": {},
     "output_type": "display_data"
    }
   ],
   "source": [
    "def plot_histograms(alphas, betas, filename='bootstrap_histogram.png'):\n",
    "    plt.hist(alphas, bins=30, alpha=0.5, label='Alphas')\n",
    "    plt.hist(betas, bins=30, alpha=0.5, label='Betas')\n",
    "    plt.legend()\n",
    "    plt.title(\"bootstrap results for eta and beta\")\n",
    "    plt.savefig(filename)  # Save the plot to a file\n",
    "    plt.show()  # Close the plot to release memory\n",
    "\n",
    "plot_histograms(alphas_bootstrap, betas_bootstrap, filename='bootstrap_histogram.png')"
   ]
  },
  {
   "cell_type": "code",
   "execution_count": null,
   "id": "379f280f",
   "metadata": {},
   "outputs": [],
   "source": []
  }
 ],
 "metadata": {
  "kernelspec": {
   "display_name": "Python 3 (ipykernel)",
   "language": "python",
   "name": "python3"
  },
  "language_info": {
   "codemirror_mode": {
    "name": "ipython",
    "version": 3
   },
   "file_extension": ".py",
   "mimetype": "text/x-python",
   "name": "python",
   "nbconvert_exporter": "python",
   "pygments_lexer": "ipython3",
   "version": "3.11.5"
  }
 },
 "nbformat": 4,
 "nbformat_minor": 5
}
